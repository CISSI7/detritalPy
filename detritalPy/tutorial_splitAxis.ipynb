{
 "cells": [
  {
   "cell_type": "markdown",
   "metadata": {},
   "source": [
    "# <center>detritalPy: A Python-based Toolset for Visualizing and Analyzing Detrital Geo-Thermochronologic Data</center>"
   ]
  },
  {
   "cell_type": "markdown",
   "metadata": {},
   "source": [
    "## <center>Glenn R. Sharman, Jonathan P. Sharman, and Zoltan Sylvester</center>"
   ]
  },
  {
   "cell_type": "markdown",
   "metadata": {},
   "source": [
    "# <center>Split Axis Tutorial</center>"
   ]
  },
  {
   "cell_type": "markdown",
   "metadata": {},
   "source": [
    "### I. Import required modules\n",
    "This step must by run initially, but then does not need to be run again for the remainder of the analysis session. <i>(Note: Select a cell and Shift+Enter to run the cell).</i>"
   ]
  },
  {
   "cell_type": "code",
   "execution_count": null,
   "metadata": {
    "collapsed": true
   },
   "outputs": [],
   "source": [
    "import detritalpy\n",
    "import detritalpy.detritalFuncs as dFunc\n",
    "import pathlib\n",
    "import matplotlib\n",
    "%matplotlib inline\n",
    "%config InlineBackend.figure_format = 'retina' # For improving matplotlib figure resolution\n",
    "matplotlib.rcParams['pdf.fonttype'] = 42 # For allowing preservation of fonts upon importing into Adobe Illustrator\n",
    "matplotlib.rcParams['ps.fonttype'] = 42\n",
    "print('detritalPy version: ',detritalpy.__version__)"
   ]
  },
  {
   "cell_type": "markdown",
   "metadata": {},
   "source": [
    "### II. Import the dataset as an Excel file\n",
    "This step must by run initially, and should be repeated if any changes are made to the dataset in Excel. The simplest way to load data is to place the Excel file(s) in the same directory or a sub-directory of the Jupyter Notebook file. For more options, please refer to tutorial_dataLoading.ipynb."
   ]
  },
  {
   "cell_type": "code",
   "execution_count": null,
   "metadata": {
    "collapsed": true
   },
   "outputs": [],
   "source": [
    "# Specify file paths to data input file(s)\n",
    "dataToLoad = ['example-data/ExampleDataset_1.xlsx',\n",
    "              'example-data/ExampleDataset_2.xlsx']\n",
    "\n",
    "main_df, main_byid_df, samples_df, analyses_df = dFunc.loadDataExcel(dataToLoad)"
   ]
  },
  {
   "cell_type": "markdown",
   "metadata": {},
   "source": [
    "Optional: run the cell below to plot a distribution of sample size (number of analyses per sample) in the dataset"
   ]
  },
  {
   "cell_type": "code",
   "execution_count": null,
   "metadata": {
    "collapsed": true
   },
   "outputs": [],
   "source": [
    "dFunc.plotSampleDist(main_byid_df, numBins=25)"
   ]
  },
  {
   "cell_type": "markdown",
   "metadata": {},
   "source": [
    "### III. Select samples\n",
    "Individual or groups of samples can be selected by entering their unique Sample ID's in an array or tuple (see example below for the correct syntax). This sample list will be used for all subsequent plotting and analysis functions."
   ]
  },
  {
   "cell_type": "code",
   "execution_count": null,
   "metadata": {
    "collapsed": true
   },
   "outputs": [],
   "source": [
    "sampleList = ['POR-1','POR-2','POR-3','BUT-5','BUT-4','BUT-3','BUT-2','BUT-1']\n",
    "\n",
    "ages, errors, numGrains, labels = dFunc.sampleToData(sampleList, main_byid_df, sigma = '1sigma');"
   ]
  },
  {
   "cell_type": "markdown",
   "metadata": {},
   "source": [
    "## Plot detrital age distributions\n",
    "Plot detrital age distributions as cumulative distribution functions (CDFs), probability density plots (PDPs), kernal density estimations (KDEs), histograms, and pie diagrams. Plotting options must be selected below."
   ]
  },
  {
   "cell_type": "markdown",
   "metadata": {},
   "source": [
    "<b><i>A scale change may be implemented in the x-axis of the plotAll() function by making x1, x2, and w variables lists instead of integers</b></i>\n",
    "<br>For example, x1 = [0,300] and x2 = [300,3500] will create an axis split at 300 Ma\n",
    "<br>If w = [1,4,4], the leftmost column for the pie diagram will have a relative width of 1, and each part of the split axis will have a relative width of 4"
   ]
  },
  {
   "cell_type": "code",
   "execution_count": null,
   "metadata": {
    "collapsed": true
   },
   "outputs": [],
   "source": [
    "# Enter plot options below\n",
    "whatToPlot = 'both' # Options: cumulative, relative, or both\n",
    "separateSubplots = True # Set to True to plot each relative age distribution in a separate subplot (allows histogram and pie)\n",
    "\n",
    "# Specify the age range (Myr) that you want to plot\n",
    "x1 = [0,300]\n",
    "x2 = [300,3500]\n",
    "plotLog = False # Set to True to plot the x-axis as a log scale\n",
    "\n",
    "# Specify the plot dimensions\n",
    "w = [1,4,4] # width of the plot\n",
    "c = 4 # height of CDF panel\n",
    "h = 5 # height of the relative panel (only required if separateSubplots is False). Options: 'auto' or an integer\n",
    "\n",
    "# Specify the interval (Myr) over which distributions are calculated\n",
    "xdif = 1 # Note: an interval of 1 Myr is recommended\n",
    "\n",
    "# Cumulative distribution options\n",
    "plotCDF = False # Plot the CDF discretized at xdif interval\n",
    "plotCPDP = False # Plot the cumulative PDP\n",
    "plotCKDE = True # Plot the cumulative KDE\n",
    "plotDKW = False # Plot the 95% confidence interval of the CDF (Dvoretsky-Kiefer-Wolfowitz inequality)\n",
    "\n",
    "# Relative distribution options\n",
    "normPlots = False # Will normalize the PDP/KDE if yes to True (if separateSubplots is True)\n",
    "\n",
    "plotKDE = True # Set to True if want to plot KDE\n",
    "colorKDE = False # Will color KDE according to same coloration as used in CDF plotting\n",
    "colorKDEbyAge = True # Will color KDE according to age populations if set to True\n",
    "bw = 'optimizedFixed' # Specify the KDE bandwidth. Options are 'optimizedFixed', 'optimizedVariable', or a number (bandwidth in Myr)\n",
    "\n",
    "plotPDP = False # Set to True if want to plot PDP\n",
    "colorPDP = False # Will color PDP according to same coloration as used in CDF plotting\n",
    "colorPDPbyAge = False # Will color PDP according to age populations if set to True\n",
    "\n",
    "plotColorBar = False # Color age categories as vertical bars, can add white bars to create blank space between other colored bars\n",
    "\n",
    "plotHist = False # Set to True to plot a histogram (only available when separateSubplots is True)\n",
    "b = 5 # Specify the histogram bin size (Myr)\n",
    "\n",
    "plotPIE = True # Will plot a pie diagram (only available when separateSubplots is True)\n",
    "\n",
    "# Specify  age categories for colored KDE, PDP, and/or pie plots\n",
    "# Sharman et al. 2015 scheme\n",
    "agebins = [0, 23, 65, 85, 100, 135, 200, 300, 500, 4500]\n",
    "agebinsc = ['slategray','royalblue','gold','red','darkred','purple','navy','gray','saddlebrown']\n",
    "\n",
    "plotAgePeaks = False # Will identify and plot age peaks\n",
    "agePeakOptions = ['KDE', 0.05, 5, 2, True] # [distType, threshold, minDist, minPeakSize, labels]\n",
    "xdif=1\n",
    "\n",
    "fig = dFunc.plotAll(sampleList, ages, errors, numGrains, labels, whatToPlot, separateSubplots, plotCDF, plotCPDP, plotCKDE, \n",
    "                    plotDKW, normPlots, plotKDE, colorKDE, colorKDEbyAge, plotPDP, colorPDP, colorPDPbyAge, plotColorBar, \n",
    "                    plotHist, plotLog, plotPIE, x1, x2, b, bw, xdif, agebins, agebinsc, w, c, h, plotAgePeaks, agePeakOptions,\n",
    "                    CDFlw=3, KDElw=1, PDPlw=1)"
   ]
  },
  {
   "cell_type": "markdown",
   "metadata": {},
   "source": [
    "One can also elect to plot a histogram, in which case the bin width can be set separately for different split axes. For example, setting b = [5, 100] will produce a histogram with a 5 Ma bin width in the left subplot and a 100 Ma bin width in the right subplot, as shown below."
   ]
  },
  {
   "cell_type": "code",
   "execution_count": null,
   "metadata": {},
   "outputs": [],
   "source": [
    "# Enter plot options below\n",
    "whatToPlot = 'both' # Options: cumulative, relative, or both\n",
    "separateSubplots = True # Set to True to plot each relative age distribution in a separate subplot (allows histogram and pie)\n",
    "\n",
    "# Specify the age range (Myr) that you want to plot\n",
    "x1 = [0,300]\n",
    "x2 = [300,3500]\n",
    "plotLog = False # Set to True to plot the x-axis as a log scale\n",
    "\n",
    "# Specify the plot dimensions\n",
    "w = [1,4,4] # width of the plot\n",
    "c = 4 # height of CDF panel\n",
    "h = 5 # height of the relative panel (only required if separateSubplots is False). Options: 'auto' or an integer\n",
    "\n",
    "# Specify the interval (Myr) over which distributions are calculated\n",
    "xdif = 1 # Note: an interval of 1 Myr is recommended\n",
    "\n",
    "# Cumulative distribution options\n",
    "plotCDF = False # Plot the CDF discretized at xdif interval\n",
    "plotCPDP = False # Plot the cumulative PDP\n",
    "plotCKDE = True # Plot the cumulative KDE\n",
    "plotDKW = False # Plot the 95% confidence interval of the CDF (Dvoretsky-Kiefer-Wolfowitz inequality)\n",
    "\n",
    "# Relative distribution options\n",
    "normPlots = False # Will normalize the PDP/KDE if yes to True (if separateSubplots is True)\n",
    "\n",
    "plotKDE = True # Set to True if want to plot KDE\n",
    "colorKDE = False # Will color KDE according to same coloration as used in CDF plotting\n",
    "colorKDEbyAge = True # Will color KDE according to age populations if set to True\n",
    "bw = 'optimizedFixed' # Specify the KDE bandwidth. Options are 'optimizedFixed', 'optimizedVariable', or a number (bandwidth in Myr)\n",
    "\n",
    "plotPDP = False # Set to True if want to plot PDP\n",
    "colorPDP = False # Will color PDP according to same coloration as used in CDF plotting\n",
    "colorPDPbyAge = False # Will color PDP according to age populations if set to True\n",
    "\n",
    "plotColorBar = False # Color age categories as vertical bars, can add white bars to create blank space between other colored bars\n",
    "\n",
    "plotHist = True # Set to True to plot a histogram (only available when separateSubplots is True)\n",
    "b = [5,100] # Specify the histogram bin size (Myr)\n",
    "\n",
    "plotPIE = True # Will plot a pie diagram (only available when separateSubplots is True)\n",
    "\n",
    "# Specify  age categories for colored KDE, PDP, and/or pie plots\n",
    "# Sharman et al. 2015 scheme\n",
    "agebins = [0, 23, 65, 85, 100, 135, 200, 300, 500, 4500]\n",
    "agebinsc = ['slategray','royalblue','gold','red','darkred','purple','navy','gray','saddlebrown']\n",
    "\n",
    "plotAgePeaks = False # Will identify and plot age peaks\n",
    "agePeakOptions = ['KDE', 0.05, 5, 2, True] # [distType, threshold, minDist, minPeakSize, labels]\n",
    "xdif=1\n",
    "\n",
    "fig = dFunc.plotAll(sampleList, ages, errors, numGrains, labels, whatToPlot, separateSubplots, plotCDF, plotCPDP, plotCKDE, \n",
    "                    plotDKW, normPlots, plotKDE, colorKDE, colorKDEbyAge, plotPDP, colorPDP, colorPDPbyAge, plotColorBar, \n",
    "                    plotHist, plotLog, plotPIE, x1, x2, b, bw, xdif, agebins, agebinsc, w, c, h, plotAgePeaks, agePeakOptions,\n",
    "                    CDFlw=3, KDElw=1, PDPlw=1)"
   ]
  },
  {
   "cell_type": "markdown",
   "metadata": {},
   "source": [
    "Alternatively, the relative widths of the axis splits can be unequal. There is no limit on the number of axis splits that may be used. The relative width of each axis can be specified in w. The example below uses 3 different x-axis scales and also normalizes the plots such that the area under each curve is 1."
   ]
  },
  {
   "cell_type": "code",
   "execution_count": null,
   "metadata": {},
   "outputs": [],
   "source": [
    "# Enter plot options below\n",
    "whatToPlot = 'both' # Options: cumulative, relative, or both\n",
    "separateSubplots = True # Set to True to plot each relative age distribution in a separate subplot (allows histogram and pie)\n",
    "\n",
    "# Specify the age range (Myr) that you want to plot\n",
    "x1 = [0,100,300]\n",
    "x2 = [100,300,3500]\n",
    "plotLog = False # Set to True to plot the x-axis as a log scale\n",
    "\n",
    "# Specify the plot dimensions\n",
    "w = [1,2,3,4] # width of the plot\n",
    "c = 4 # height of CDF panel\n",
    "h = 5 # height of the relative panel (only required if separateSubplots is False). Options: 'auto' or an integer\n",
    "\n",
    "# Specify the interval (Myr) over which distributions are calculated\n",
    "xdif = 1 # Note: an interval of 1 Myr is recommended\n",
    "\n",
    "# Cumulative distribution options\n",
    "plotCDF = False # Plot the CDF discretized at xdif interval\n",
    "plotCPDP = False # Plot the cumulative PDP\n",
    "plotCKDE = True # Plot the cumulative KDE\n",
    "plotDKW = False # Plot the 95% confidence interval of the CDF (Dvoretsky-Kiefer-Wolfowitz inequality)\n",
    "\n",
    "# Relative distribution options\n",
    "normPlots = True # Will normalize the PDP/KDE if yes to True (if separateSubplots is True)\n",
    "\n",
    "plotKDE = True # Set to True if want to plot KDE\n",
    "colorKDE = False # Will color KDE according to same coloration as used in CDF plotting\n",
    "colorKDEbyAge = True # Will color KDE according to age populations if set to True\n",
    "bw = 'optimizedFixed' # Specify the KDE bandwidth. Options are 'optimizedFixed', 'optimizedVariable', or a number (bandwidth in Myr)\n",
    "\n",
    "plotPDP = False # Set to True if want to plot PDP\n",
    "colorPDP = False # Will color PDP according to same coloration as used in CDF plotting\n",
    "colorPDPbyAge = False # Will color PDP according to age populations if set to True\n",
    "\n",
    "plotColorBar = False # Color age categories as vertical bars, can add white bars to create blank space between other colored bars\n",
    "\n",
    "plotHist = False # Set to True to plot a histogram (only available when separateSubplots is True)\n",
    "b = 5 # Specify the histogram bin size (Myr)\n",
    "\n",
    "plotPIE = True # Will plot a pie diagram (only available when separateSubplots is True)\n",
    "\n",
    "# Specify  age categories for colored KDE, PDP, and/or pie plots\n",
    "# Sharman et al. 2015 scheme\n",
    "agebins = [0, 23, 65, 85, 100, 135, 200, 300, 500, 4500]\n",
    "agebinsc = ['slategray','royalblue','gold','red','darkred','purple','navy','gray','saddlebrown']\n",
    "\n",
    "plotAgePeaks = False # Will identify and plot age peaks\n",
    "agePeakOptions = ['KDE', 0.05, 5, 2, True] # [distType, threshold, minDist, minPeakSize, labels]\n",
    "xdif=1\n",
    "\n",
    "fig = dFunc.plotAll(sampleList, ages, errors, numGrains, labels, whatToPlot, separateSubplots, plotCDF, plotCPDP, plotCKDE, \n",
    "                    plotDKW, normPlots, plotKDE, colorKDE, colorKDEbyAge, plotPDP, colorPDP, colorPDPbyAge, plotColorBar, \n",
    "                    plotHist, plotLog, plotPIE, x1, x2, b, bw, xdif, agebins, agebinsc, w, c, h, plotAgePeaks, agePeakOptions,\n",
    "                    CDFlw=3, KDElw=1, PDPlw=1)"
   ]
  },
  {
   "cell_type": "markdown",
   "metadata": {},
   "source": [
    "Note the y-axis scale jump in the previous example at 100 Ma. detritalPy automatically calculates the appropriate scaling relationship such that that area under the curve remains constant. Thus, compressing scale (i.e., resulting in relatively greater time per unit width) results in the peaks become taller. It is thus prudential to place scale breaks in portions of your data that lack data."
   ]
  },
  {
   "cell_type": "markdown",
   "metadata": {},
   "source": [
    "Also, splitting the x-axis is not allowed when <b><i>separateSubplots</b></i> = False"
   ]
  },
  {
   "cell_type": "markdown",
   "metadata": {},
   "source": [
    "The example below involves two x-axis splits (one at 135 Ma and one at 300 Ma). A PDP is plotted instead of a KDE. Peak ages are also plotted for good measure."
   ]
  },
  {
   "cell_type": "code",
   "execution_count": null,
   "metadata": {},
   "outputs": [],
   "source": [
    "# Enter plot options below\n",
    "whatToPlot = 'both' # Options: cumulative, relative, or both\n",
    "separateSubplots = True # Set to True to plot each relative age distribution in a separate subplot (allows histogram and pie)\n",
    "\n",
    "# Specify the age range (Myr) that you want to plot\n",
    "x1 = [0,135,300]\n",
    "x2 = [135,300,3500]\n",
    "plotLog = False # Set to True to plot the x-axis as a log scale\n",
    "\n",
    "# Specify the plot dimensions\n",
    "w = [1,4,4,2] # width of the plot\n",
    "c = 4 # height of CDF panel\n",
    "h = 5 # height of the relative panel (only required if separateSubplots is False). Options: 'auto' or an integer\n",
    "\n",
    "# Specify the interval (Myr) over which distributions are calculated\n",
    "xdif = 1 # Note: an interval of 1 Myr is recommended\n",
    "\n",
    "# Cumulative distribution options\n",
    "plotCDF = False # Plot the CDF discretized at xdif interval\n",
    "plotCPDP = False # Plot the cumulative PDP\n",
    "plotCKDE = True # Plot the cumulative KDE\n",
    "plotDKW = False # Plot the 95% confidence interval of the CDF (Dvoretsky-Kiefer-Wolfowitz inequality)\n",
    "\n",
    "# Relative distribution options\n",
    "normPlots = True # Will normalize the PDP/KDE if yes to True (if separateSubplots is True)\n",
    "\n",
    "plotKDE = False # Set to True if want to plot KDE\n",
    "colorKDE = False # Will color KDE according to same coloration as used in CDF plotting\n",
    "colorKDEbyAge = True # Will color KDE according to age populations if set to True\n",
    "bw = 'optimizedFixed' # Specify the KDE bandwidth. Options are 'optimizedFixed', 'optimizedVariable', or a number (bandwidth in Myr)\n",
    "\n",
    "plotPDP = True # Set to True if want to plot PDP\n",
    "colorPDP = False # Will color PDP according to same coloration as used in CDF plotting\n",
    "colorPDPbyAge = True # Will color PDP according to age populations if set to True\n",
    "\n",
    "plotColorBar = False # Color age categories as vertical bars, can add white bars to create blank space between other colored bars\n",
    "\n",
    "plotHist = False # Set to True to plot a histogram (only available when separateSubplots is True)\n",
    "b = 25 # Specify the histogram bin size (Myr)\n",
    "\n",
    "plotPIE = True # Will plot a pie diagram (only available when separateSubplots is True)\n",
    "\n",
    "# Specify  age categories for colored KDE, PDP, and/or pie plots\n",
    "# Sharman et al. 2015 scheme\n",
    "agebins = [0, 23, 65, 85, 100, 135, 200, 300, 500, 4500]\n",
    "agebinsc = ['slategray','royalblue','gold','red','darkred','purple','navy','gray','saddlebrown']\n",
    "\n",
    "plotAgePeaks = True # Will identify and plot age peaks\n",
    "agePeakOptions = ['PDP', 0.02, 10, 2, True] # [distType, threshold, minDist, minPeakSize, labels]\n",
    "\n",
    "fig = dFunc.plotAll(sampleList, ages, errors, numGrains, labels, whatToPlot, separateSubplots, plotCDF, plotCPDP, plotCKDE, \n",
    "                    plotDKW, normPlots, plotKDE, colorKDE, colorKDEbyAge, plotPDP, colorPDP, colorPDPbyAge, plotColorBar, \n",
    "                    plotHist, plotLog, plotPIE, x1, x2, b, bw, xdif, agebins, agebinsc, w, c, h, plotAgePeaks, agePeakOptions,\n",
    "                    CDFlw=3, KDElw=1, PDPlw=1)"
   ]
  },
  {
   "cell_type": "markdown",
   "metadata": {},
   "source": [
    "Split axes are compatible with most plotting options. Below, the relative intensity of the KDE age peaks is represented as a heat map. Note how the Precambrian peaks, which are fairly pronounced under the split axis, lack a strong heat map coloration."
   ]
  },
  {
   "cell_type": "code",
   "execution_count": null,
   "metadata": {},
   "outputs": [],
   "source": [
    "# Enter plot options below\n",
    "whatToPlot = 'relative' # Options: cumulative, relative, or both\n",
    "separateSubplots = True # Set to True to plot each relative age distribution in a separate subplot (allows histogram and pie)\n",
    "\n",
    "# Specify the age range (Myr) that you want to plot\n",
    "x1 = [0,135,300]\n",
    "x2 = [135,300,3500]\n",
    "plotLog = False # Set to True to plot the x-axis as a log scale\n",
    "\n",
    "# Specify the plot dimensions\n",
    "w = [1,4,4,2] # width of the plot\n",
    "c = 4 # height of CDF panel\n",
    "h = 5 # height of the relative panel (only required if separateSubplots is False). Options: 'auto' or an integer\n",
    "\n",
    "# Specify the interval (Myr) over which distributions are calculated\n",
    "xdif = 1 # Note: an interval of 1 Myr is recommended\n",
    "\n",
    "# Cumulative distribution options\n",
    "plotCDF = False # Plot the CDF discretized at xdif interval\n",
    "plotCPDP = False # Plot the cumulative PDP\n",
    "plotCKDE = True # Plot the cumulative KDE\n",
    "plotDKW = False # Plot the 95% confidence interval of the CDF (Dvoretsky-Kiefer-Wolfowitz inequality)\n",
    "\n",
    "# Relative distribution options\n",
    "normPlots = True # Will normalize the PDP/KDE if yes to True (if separateSubplots is True)\n",
    "\n",
    "plotKDE = True # Set to True if want to plot KDE\n",
    "colorKDE = False # Will color KDE according to same coloration as used in CDF plotting\n",
    "colorKDEbyAge = False # Will color KDE according to age populations if set to True\n",
    "bw = 'optimizedFixed' # Specify the KDE bandwidth. Options are 'optimizedFixed', 'optimizedVariable', or a number (bandwidth in Myr)\n",
    "\n",
    "plotPDP = False # Set to True if want to plot PDP\n",
    "colorPDP = False # Will color PDP according to same coloration as used in CDF plotting\n",
    "colorPDPbyAge = False # Will color PDP according to age populations if set to True\n",
    "\n",
    "plotColorBar = False # Color age categories as vertical bars, can add white bars to create blank space between other colored bars\n",
    "\n",
    "plotHist = False # Set to True to plot a histogram (only available when separateSubplots is True)\n",
    "b = 25 # Specify the histogram bin size (Myr)\n",
    "\n",
    "plotPIE = True # Will plot a pie diagram (only available when separateSubplots is True)\n",
    "\n",
    "# Specify  age categories for colored KDE, PDP, and/or pie plots\n",
    "# Sharman et al. 2015 scheme\n",
    "agebins = [0, 23, 65, 85, 100, 135, 200, 300, 500, 4500]\n",
    "agebinsc = ['slategray','royalblue','gold','red','darkred','purple','navy','gray','saddlebrown']\n",
    "\n",
    "plotAgePeaks = False # Will identify and plot age peaks\n",
    "agePeakOptions = ['PDP', 0.02, 10, 2, True] # [distType, threshold, minDist, minPeakSize, labels]\n",
    "\n",
    "fig = dFunc.plotAll(sampleList, ages, errors, numGrains, labels, whatToPlot, separateSubplots, plotCDF, plotCPDP, plotCKDE, \n",
    "                    plotDKW, normPlots, plotKDE, colorKDE, colorKDEbyAge, plotPDP, colorPDP, colorPDPbyAge, plotColorBar, \n",
    "                    plotHist, plotLog, plotPIE, x1, x2, b, bw, xdif, agebins, agebinsc, w, c, h, plotAgePeaks, agePeakOptions,\n",
    "                    CDFlw=3, KDElw=1, PDPlw=1, plotHeatMap = True, heatMapType = 'KDE')"
   ]
  },
  {
   "cell_type": "code",
   "execution_count": null,
   "metadata": {},
   "outputs": [],
   "source": []
  }
 ],
 "metadata": {
  "kernelspec": {
   "display_name": "Python 3",
   "language": "python",
   "name": "python3"
  },
  "language_info": {
   "codemirror_mode": {
    "name": "ipython",
    "version": 3
   },
   "file_extension": ".py",
   "mimetype": "text/x-python",
   "name": "python",
   "nbconvert_exporter": "python",
   "pygments_lexer": "ipython3",
   "version": "3.7.3"
  }
 },
 "nbformat": 4,
 "nbformat_minor": 2
}
