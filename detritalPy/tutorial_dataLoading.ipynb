{
 "cells": [
  {
   "cell_type": "markdown",
   "metadata": {},
   "source": [
    "# <center>detritalPy: A Python-based Toolset for Visualizing and Analyzing Detrital Geo-Thermochronologic Data</center>"
   ]
  },
  {
   "cell_type": "markdown",
   "metadata": {},
   "source": [
    "## <center>Glenn R. Sharman, Jonathan P. Sharman, and Zoltan Sylvester</center>"
   ]
  },
  {
   "cell_type": "markdown",
   "metadata": {},
   "source": [
    "# <center> Data Loading Tutorial </center>"
   ]
  },
  {
   "cell_type": "markdown",
   "metadata": {},
   "source": [
    "### I. Import required modules\n",
    "This step must by run initially, but then does not need to be run again for the remainder of the analysis session. (Note: to run a cell, select that cell and then Shift+Enter)."
   ]
  },
  {
   "cell_type": "code",
   "execution_count": null,
   "metadata": {
    "collapsed": true
   },
   "outputs": [],
   "source": [
    "import detritalpy.detritalFuncs as dFunc\n",
    "from importlib import reload\n",
    "import pathlib\n",
    "%matplotlib inline"
   ]
  },
  {
   "cell_type": "markdown",
   "metadata": {},
   "source": [
    "### II. Import the dataset as an Excel file"
   ]
  },
  {
   "cell_type": "markdown",
   "metadata": {},
   "source": [
    "### Option 1\n",
    "The simplest way to load data is to place the Excel file(s) in the same directory or a sub-directory of the Jupyter Notebook file."
   ]
  },
  {
   "cell_type": "code",
   "execution_count": null,
   "metadata": {},
   "outputs": [],
   "source": [
    "# Specify file paths to data input file(s)\n",
    "dataToLoad = ['example-data/ExampleDataset_1.xlsx',\n",
    "              'example-data/ExampleDataset_2.xlsx']\n",
    "\n",
    "main_df, main_byid_df, samples_df, analyses_df = dFunc.loadDataExcel(dataToLoad)"
   ]
  },
  {
   "cell_type": "markdown",
   "metadata": {},
   "source": [
    "### Option 2\n",
    "The library pathlib can be used to specify the path and file name(s) of the Excel files, as shown below"
   ]
  },
  {
   "cell_type": "code",
   "execution_count": null,
   "metadata": {
    "collapsed": true
   },
   "outputs": [],
   "source": [
    "# Import relative file pathway(s)\n",
    "from pathlib import Path\n",
    "\n",
    "# Specify file paths to data input file(s)\n",
    "dataToLoad = [Path(\"example-data/\") / \"ExampleDataset_1.xlsx\",\n",
    "              Path(\"example-data/\") / \"ExampleDataset_2.xlsx\"]\n",
    "\n",
    "main_df, main_byid_df, samples_df, analyses_df = dFunc.loadDataExcel(dataToLoad)"
   ]
  },
  {
   "cell_type": "markdown",
   "metadata": {},
   "source": [
    "### Option 3 - Windows\n",
    "File pathways can be written out, as shown below. The pathway shown below will not work on your computer because you can see that it references the file structure on my PC. You will need to input your specify file pathway to impot data this way. Note: in order to use the blackslashes in file pathways used by default in Windows, you must place an 'r' in front of the filepath, as shown below."
   ]
  },
  {
   "cell_type": "code",
   "execution_count": null,
   "metadata": {
    "collapsed": true
   },
   "outputs": [],
   "source": [
    "# Specify file paths to data input file(s)\n",
    "dataToLoad = [r'C:\\Users\\gsharman\\Documents\\GitHub\\detritalPy\\example-data\\ExampleDataset_1.xlsx',\n",
    "              r'C:\\Users\\gsharman\\Documents\\GitHub\\detritalPy\\example-data\\ExampleDataset_2.xlsx']\n",
    "\n",
    "main_df, main_byid_df, samples_df, analyses_df = dFunc.loadDataExcel(dataToLoad)"
   ]
  },
  {
   "cell_type": "markdown",
   "metadata": {},
   "source": [
    "Note that forward slashes may also be used in Windows file pathways, as shown below. In this case, omit the 'r' in front of the file pathway."
   ]
  },
  {
   "cell_type": "code",
   "execution_count": null,
   "metadata": {},
   "outputs": [],
   "source": [
    "# Specify file paths to data input file(s)\n",
    "dataToLoad = ['C:/Users/gsharman/Documents/GitHub/detritalPy/example-data/ExampleDataset_1.xlsx',\n",
    "              'C:/Users/gsharman/Documents/GitHub/detritalPy/example-data/ExampleDataset_2.xlsx']\n",
    "\n",
    "main_df, main_byid_df, samples_df, analyses_df = dFunc.loadDataExcel(dataToLoad)"
   ]
  },
  {
   "cell_type": "markdown",
   "metadata": {},
   "source": [
    "### Option 3 - MacOS\n",
    "MacOS uses forward slashes in the file pathway, as shown below. This format actually also works with Windows."
   ]
  },
  {
   "cell_type": "code",
   "execution_count": null,
   "metadata": {},
   "outputs": [],
   "source": [
    "# Specify file paths to data input file(s)\n",
    "dataToLoad = ['/Users/gsharman/Box/detritalPy/detritalPy/detritalPy/example-data/ExampleDataset_1.xlsx',\n",
    "              '/Users/gsharman/Box/detritalPy/detritalPy/detritalPy/example-data/ExampleDataset_2.xlsx']\n",
    "\n",
    "main_df, main_byid_df, samples_df, analyses_df = dFunc.loadDataExcel(dataToLoad)"
   ]
  }
 ],
 "metadata": {
  "kernelspec": {
   "display_name": "Python 3",
   "language": "python",
   "name": "python3"
  },
  "language_info": {
   "codemirror_mode": {
    "name": "ipython",
    "version": 3
   },
   "file_extension": ".py",
   "mimetype": "text/x-python",
   "name": "python",
   "nbconvert_exporter": "python",
   "pygments_lexer": "ipython3",
   "version": "3.7.3"
  }
 },
 "nbformat": 4,
 "nbformat_minor": 2
}
